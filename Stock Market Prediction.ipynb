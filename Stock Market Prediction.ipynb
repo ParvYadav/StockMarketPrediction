{
 "cells": [
  {
   "cell_type": "markdown",
   "metadata": {},
   "source": [
    "# Getting Stock Price Data"
   ]
  },
  {
   "cell_type": "code",
   "execution_count": 22,
   "metadata": {},
   "outputs": [],
   "source": [
    "import datetime as dt # so that we can set some starting and end dates for the data we can pull "
   ]
  },
  {
   "cell_type": "code",
   "execution_count": 23,
   "metadata": {},
   "outputs": [],
   "source": [
    "import matplotlib.pyplot as plt # helps in making plots charts graphs \n",
    "from matplotlib import style # to make our graphs looks better"
   ]
  },
  {
   "cell_type": "code",
   "execution_count": 24,
   "metadata": {},
   "outputs": [],
   "source": [
    "import pandas as pd \n",
    "import pandas_datareader.data as web # it is used for remote data access for pandas it returns data in pandas dataframe"
   ]
  },
  {
   "cell_type": "code",
   "execution_count": 25,
   "metadata": {},
   "outputs": [],
   "source": [
    "style.use('ggplot') # one of many styles we are using ggplot"
   ]
  },
  {
   "cell_type": "code",
   "execution_count": 26,
   "metadata": {},
   "outputs": [],
   "source": [
    "start = dt.datetime(2000,1,1)\n",
    "end = dt.datetime(2016,12,31)"
   ]
  },
  {
   "cell_type": "code",
   "execution_count": 27,
   "metadata": {},
   "outputs": [],
   "source": [
    "df = web.DataReader('TSLA', 'yahoo', start, end) # we are using ticker it is symbol for a company for a stock here TSLA is Tesla\n",
    "# then where we are getting from we are getting from Yahoo and then for what time then we told about start and end time"
   ]
  },
  {
   "cell_type": "code",
   "execution_count": 29,
   "metadata": {},
   "outputs": [
    {
     "data": {
      "text/html": [
       "<div>\n",
       "<style scoped>\n",
       "    .dataframe tbody tr th:only-of-type {\n",
       "        vertical-align: middle;\n",
       "    }\n",
       "\n",
       "    .dataframe tbody tr th {\n",
       "        vertical-align: top;\n",
       "    }\n",
       "\n",
       "    .dataframe thead th {\n",
       "        text-align: right;\n",
       "    }\n",
       "</style>\n",
       "<table border=\"1\" class=\"dataframe\">\n",
       "  <thead>\n",
       "    <tr style=\"text-align: right;\">\n",
       "      <th></th>\n",
       "      <th>High</th>\n",
       "      <th>Low</th>\n",
       "      <th>Open</th>\n",
       "      <th>Close</th>\n",
       "      <th>Volume</th>\n",
       "      <th>Adj Close</th>\n",
       "    </tr>\n",
       "    <tr>\n",
       "      <th>Date</th>\n",
       "      <th></th>\n",
       "      <th></th>\n",
       "      <th></th>\n",
       "      <th></th>\n",
       "      <th></th>\n",
       "      <th></th>\n",
       "    </tr>\n",
       "  </thead>\n",
       "  <tbody>\n",
       "    <tr>\n",
       "      <th>2016-12-22</th>\n",
       "      <td>209.990005</td>\n",
       "      <td>206.500000</td>\n",
       "      <td>208.220001</td>\n",
       "      <td>208.449997</td>\n",
       "      <td>3111100</td>\n",
       "      <td>208.449997</td>\n",
       "    </tr>\n",
       "    <tr>\n",
       "      <th>2016-12-23</th>\n",
       "      <td>213.449997</td>\n",
       "      <td>207.710007</td>\n",
       "      <td>208.000000</td>\n",
       "      <td>213.339996</td>\n",
       "      <td>4662900</td>\n",
       "      <td>213.339996</td>\n",
       "    </tr>\n",
       "    <tr>\n",
       "      <th>2016-12-27</th>\n",
       "      <td>222.250000</td>\n",
       "      <td>214.419998</td>\n",
       "      <td>214.880005</td>\n",
       "      <td>219.529999</td>\n",
       "      <td>5915700</td>\n",
       "      <td>219.529999</td>\n",
       "    </tr>\n",
       "    <tr>\n",
       "      <th>2016-12-28</th>\n",
       "      <td>223.800003</td>\n",
       "      <td>217.199997</td>\n",
       "      <td>221.529999</td>\n",
       "      <td>219.740005</td>\n",
       "      <td>3782500</td>\n",
       "      <td>219.740005</td>\n",
       "    </tr>\n",
       "    <tr>\n",
       "      <th>2016-12-29</th>\n",
       "      <td>219.199997</td>\n",
       "      <td>214.119995</td>\n",
       "      <td>218.559998</td>\n",
       "      <td>214.679993</td>\n",
       "      <td>4035900</td>\n",
       "      <td>214.679993</td>\n",
       "    </tr>\n",
       "    <tr>\n",
       "      <th>2016-12-30</th>\n",
       "      <td>217.500000</td>\n",
       "      <td>211.679993</td>\n",
       "      <td>216.300003</td>\n",
       "      <td>213.690002</td>\n",
       "      <td>4642600</td>\n",
       "      <td>213.690002</td>\n",
       "    </tr>\n",
       "  </tbody>\n",
       "</table>\n",
       "</div>"
      ],
      "text/plain": [
       "                  High         Low        Open       Close   Volume  \\\n",
       "Date                                                                  \n",
       "2016-12-22  209.990005  206.500000  208.220001  208.449997  3111100   \n",
       "2016-12-23  213.449997  207.710007  208.000000  213.339996  4662900   \n",
       "2016-12-27  222.250000  214.419998  214.880005  219.529999  5915700   \n",
       "2016-12-28  223.800003  217.199997  221.529999  219.740005  3782500   \n",
       "2016-12-29  219.199997  214.119995  218.559998  214.679993  4035900   \n",
       "2016-12-30  217.500000  211.679993  216.300003  213.690002  4642600   \n",
       "\n",
       "             Adj Close  \n",
       "Date                    \n",
       "2016-12-22  208.449997  \n",
       "2016-12-23  213.339996  \n",
       "2016-12-27  219.529999  \n",
       "2016-12-28  219.740005  \n",
       "2016-12-29  214.679993  \n",
       "2016-12-30  213.690002  "
      ]
     },
     "execution_count": 29,
     "metadata": {},
     "output_type": "execute_result"
    }
   ],
   "source": [
    "df.head(6)\n",
    "df.tail(6)\n",
    "# it has adj close means adjusted close it is adjusted for **stock splits** this happens when a company decides their\n",
    "# price maybe its too high per share they say okay every share is two share actually \n",
    "\n",
    "# DataFrame has taken Date as a index"
   ]
  },
  {
   "cell_type": "markdown",
   "metadata": {},
   "source": [
    "\n",
    "# Handling Data and Graphing"
   ]
  },
  {
   "cell_type": "code",
   "execution_count": 30,
   "metadata": {},
   "outputs": [],
   "source": [
    "df.to_csv('tsla.csv') # to convert the dataframe into CSV"
   ]
  },
  {
   "cell_type": "code",
   "execution_count": 31,
   "metadata": {},
   "outputs": [
    {
     "name": "stdout",
     "output_type": "stream",
     "text": [
      "         Date   High        Low       Open      Close    Volume  Adj Close\n",
      "0  2010-06-29  25.00  17.540001  19.000000  23.889999  18766300  23.889999\n",
      "1  2010-06-30  30.42  23.299999  25.790001  23.830000  17187100  23.830000\n",
      "2  2010-07-01  25.92  20.270000  25.000000  21.959999   8218800  21.959999\n",
      "3  2010-07-02  23.10  18.709999  23.000000  19.200001   5139800  19.200001\n",
      "4  2010-07-06  20.00  15.830000  20.000000  16.110001   6866900  16.110001\n"
     ]
    }
   ],
   "source": [
    "# Reading Csv file \n",
    "#df = pd.read_csv('C:/Users/PARV/Python_code/Sentdex/tsla.csv')\n",
    "df = pd.read_csv('tsla.csv')\n",
    "print(df.head()) \n",
    "# Here we have the CSV where index is not Date"
   ]
  },
  {
   "cell_type": "code",
   "execution_count": 32,
   "metadata": {},
   "outputs": [
    {
     "name": "stdout",
     "output_type": "stream",
     "text": [
      "             High        Low       Open      Close    Volume  Adj Close\n",
      "Date                                                                   \n",
      "2010-06-29  25.00  17.540001  19.000000  23.889999  18766300  23.889999\n",
      "2010-06-30  30.42  23.299999  25.790001  23.830000  17187100  23.830000\n",
      "2010-07-01  25.92  20.270000  25.000000  21.959999   8218800  21.959999\n",
      "2010-07-02  23.10  18.709999  23.000000  19.200001   5139800  19.200001\n",
      "2010-07-06  20.00  15.830000  20.000000  16.110001   6866900  16.110001\n"
     ]
    }
   ],
   "source": [
    "# if we want date time index in CSV we need to do parse_dates = True (to make pandas attempt to infer the format of date time ) \n",
    "# and we need to specify the index so index_col = 0 means it will pull first column and read as a index\n",
    "\n",
    "df = pd.read_csv('tsla.csv', parse_dates = True, index_col = 0)\n",
    "print(df.head())\n",
    "\n",
    "# so we have date time index "
   ]
  },
  {
   "cell_type": "markdown",
   "metadata": {},
   "source": [
    "# Visualization"
   ]
  },
  {
   "cell_type": "code",
   "execution_count": 33,
   "metadata": {},
   "outputs": [
    {
     "data": {
      "text/plain": [
       "<matplotlib.axes._subplots.AxesSubplot at 0x17e89fbd2b0>"
      ]
     },
     "execution_count": 33,
     "metadata": {},
     "output_type": "execute_result"
    },
    {
     "data": {
      "image/png": "[encoded data removed]",
      "text/plain": [
       "<Figure size 432x288 with 1 Axes>"
      ]
     },
     "metadata": {},
     "output_type": "display_data"
    }
   ],
   "source": [
    "df.plot() # will pull all attributes and plot it "
   ]
  },
  {
   "cell_type": "code",
   "execution_count": 34,
   "metadata": {},
   "outputs": [
    {
     "data": {
      "text/plain": [
       "<matplotlib.axes._subplots.AxesSubplot at 0x17e8a3488d0>"
      ]
     },
     "execution_count": 34,
     "metadata": {},
     "output_type": "execute_result"
    },
    {
     "data": {
      "image/png": "[encoded data removed]",
      "text/plain": [
       "<Figure size 432x288 with 1 Axes>"
      ]
     },
     "metadata": {},
     "output_type": "display_data"
    }
   ],
   "source": [
    "df['Adj Close'].plot() #will only plot Adj Close"
   ]
  },
  {
   "cell_type": "code",
   "execution_count": 35,
   "metadata": {},
   "outputs": [
    {
     "name": "stdout",
     "output_type": "stream",
     "text": [
      "                 Open      Close\n",
      "Date                            \n",
      "2010-06-29  19.000000  23.889999\n",
      "2010-06-30  25.790001  23.830000\n",
      "2010-07-01  25.000000  21.959999\n",
      "2010-07-02  23.000000  19.200001\n",
      "2010-07-06  20.000000  16.110001\n"
     ]
    }
   ],
   "source": [
    "print(df[['Open','Close']].head()) # printing only two columns from the data frame"
   ]
  },
  {
   "cell_type": "markdown",
   "metadata": {},
   "source": [
    "# Basic Stock data Manipulation"
   ]
  },
  {
   "cell_type": "code",
   "execution_count": 16,
   "metadata": {},
   "outputs": [],
   "source": [
    "# to create new columns in pandas\n",
    "# df['100ma'] = df['Adj Close'].rolling(window=100).mean() \n",
    "# this is going to be a 100 moving average  \n",
    "#100 MA means it takes today's price and take 99 of the prior prices creates an average of those that's todays 100 moving average"
   ]
  },
  {
   "cell_type": "code",
   "execution_count": 17,
   "metadata": {},
   "outputs": [
    {
     "data": {
      "text/html": [
       "<div>\n",
       "<style scoped>\n",
       "    .dataframe tbody tr th:only-of-type {\n",
       "        vertical-align: middle;\n",
       "    }\n",
       "\n",
       "    .dataframe tbody tr th {\n",
       "        vertical-align: top;\n",
       "    }\n",
       "\n",
       "    .dataframe thead th {\n",
       "        text-align: right;\n",
       "    }\n",
       "</style>\n",
       "<table border=\"1\" class=\"dataframe\">\n",
       "  <thead>\n",
       "    <tr style=\"text-align: right;\">\n",
       "      <th></th>\n",
       "      <th>High</th>\n",
       "      <th>Low</th>\n",
       "      <th>Open</th>\n",
       "      <th>Close</th>\n",
       "      <th>Volume</th>\n",
       "      <th>Adj Close</th>\n",
       "      <th>100ma</th>\n",
       "    </tr>\n",
       "    <tr>\n",
       "      <th>Date</th>\n",
       "      <th></th>\n",
       "      <th></th>\n",
       "      <th></th>\n",
       "      <th></th>\n",
       "      <th></th>\n",
       "      <th></th>\n",
       "      <th></th>\n",
       "    </tr>\n",
       "  </thead>\n",
       "  <tbody>\n",
       "    <tr>\n",
       "      <th>2010-06-29</th>\n",
       "      <td>25.00</td>\n",
       "      <td>17.540001</td>\n",
       "      <td>19.000000</td>\n",
       "      <td>23.889999</td>\n",
       "      <td>18766300</td>\n",
       "      <td>23.889999</td>\n",
       "      <td>NaN</td>\n",
       "    </tr>\n",
       "    <tr>\n",
       "      <th>2010-06-30</th>\n",
       "      <td>30.42</td>\n",
       "      <td>23.299999</td>\n",
       "      <td>25.790001</td>\n",
       "      <td>23.830000</td>\n",
       "      <td>17187100</td>\n",
       "      <td>23.830000</td>\n",
       "      <td>NaN</td>\n",
       "    </tr>\n",
       "    <tr>\n",
       "      <th>2010-07-01</th>\n",
       "      <td>25.92</td>\n",
       "      <td>20.270000</td>\n",
       "      <td>25.000000</td>\n",
       "      <td>21.959999</td>\n",
       "      <td>8218800</td>\n",
       "      <td>21.959999</td>\n",
       "      <td>NaN</td>\n",
       "    </tr>\n",
       "    <tr>\n",
       "      <th>2010-07-02</th>\n",
       "      <td>23.10</td>\n",
       "      <td>18.709999</td>\n",
       "      <td>23.000000</td>\n",
       "      <td>19.200001</td>\n",
       "      <td>5139800</td>\n",
       "      <td>19.200001</td>\n",
       "      <td>NaN</td>\n",
       "    </tr>\n",
       "    <tr>\n",
       "      <th>2010-07-06</th>\n",
       "      <td>20.00</td>\n",
       "      <td>15.830000</td>\n",
       "      <td>20.000000</td>\n",
       "      <td>16.110001</td>\n",
       "      <td>6866900</td>\n",
       "      <td>16.110001</td>\n",
       "      <td>NaN</td>\n",
       "    </tr>\n",
       "  </tbody>\n",
       "</table>\n",
       "</div>"
      ],
      "text/plain": [
       "             High        Low       Open      Close    Volume  Adj Close  100ma\n",
       "Date                                                                          \n",
       "2010-06-29  25.00  17.540001  19.000000  23.889999  18766300  23.889999    NaN\n",
       "2010-06-30  30.42  23.299999  25.790001  23.830000  17187100  23.830000    NaN\n",
       "2010-07-01  25.92  20.270000  25.000000  21.959999   8218800  21.959999    NaN\n",
       "2010-07-02  23.10  18.709999  23.000000  19.200001   5139800  19.200001    NaN\n",
       "2010-07-06  20.00  15.830000  20.000000  16.110001   6866900  16.110001    NaN"
      ]
     },
     "execution_count": 17,
     "metadata": {},
     "output_type": "execute_result"
    }
   ],
   "source": [
    "df.head()\n",
    "# we can see NaN because we dont have 99 above values "
   ]
  },
  {
   "cell_type": "code",
   "execution_count": 18,
   "metadata": {},
   "outputs": [
    {
     "data": {
      "text/html": [
       "<div>\n",
       "<style scoped>\n",
       "    .dataframe tbody tr th:only-of-type {\n",
       "        vertical-align: middle;\n",
       "    }\n",
       "\n",
       "    .dataframe tbody tr th {\n",
       "        vertical-align: top;\n",
       "    }\n",
       "\n",
       "    .dataframe thead th {\n",
       "        text-align: right;\n",
       "    }\n",
       "</style>\n",
       "<table border=\"1\" class=\"dataframe\">\n",
       "  <thead>\n",
       "    <tr style=\"text-align: right;\">\n",
       "      <th></th>\n",
       "      <th>High</th>\n",
       "      <th>Low</th>\n",
       "      <th>Open</th>\n",
       "      <th>Close</th>\n",
       "      <th>Volume</th>\n",
       "      <th>Adj Close</th>\n",
       "      <th>100ma</th>\n",
       "    </tr>\n",
       "    <tr>\n",
       "      <th>Date</th>\n",
       "      <th></th>\n",
       "      <th></th>\n",
       "      <th></th>\n",
       "      <th></th>\n",
       "      <th></th>\n",
       "      <th></th>\n",
       "      <th></th>\n",
       "    </tr>\n",
       "  </thead>\n",
       "  <tbody>\n",
       "    <tr>\n",
       "      <th>2016-12-23</th>\n",
       "      <td>213.449997</td>\n",
       "      <td>207.710007</td>\n",
       "      <td>208.000000</td>\n",
       "      <td>213.339996</td>\n",
       "      <td>4662900</td>\n",
       "      <td>213.339996</td>\n",
       "      <td>202.6190</td>\n",
       "    </tr>\n",
       "    <tr>\n",
       "      <th>2016-12-27</th>\n",
       "      <td>222.250000</td>\n",
       "      <td>214.419998</td>\n",
       "      <td>214.880005</td>\n",
       "      <td>219.529999</td>\n",
       "      <td>5915700</td>\n",
       "      <td>219.529999</td>\n",
       "      <td>202.5082</td>\n",
       "    </tr>\n",
       "    <tr>\n",
       "      <th>2016-12-28</th>\n",
       "      <td>223.800003</td>\n",
       "      <td>217.199997</td>\n",
       "      <td>221.529999</td>\n",
       "      <td>219.740005</td>\n",
       "      <td>3782500</td>\n",
       "      <td>219.740005</td>\n",
       "      <td>202.4053</td>\n",
       "    </tr>\n",
       "    <tr>\n",
       "      <th>2016-12-29</th>\n",
       "      <td>219.199997</td>\n",
       "      <td>214.119995</td>\n",
       "      <td>218.559998</td>\n",
       "      <td>214.679993</td>\n",
       "      <td>4035900</td>\n",
       "      <td>214.679993</td>\n",
       "      <td>202.2905</td>\n",
       "    </tr>\n",
       "    <tr>\n",
       "      <th>2016-12-30</th>\n",
       "      <td>217.500000</td>\n",
       "      <td>211.679993</td>\n",
       "      <td>216.300003</td>\n",
       "      <td>213.690002</td>\n",
       "      <td>4642600</td>\n",
       "      <td>213.690002</td>\n",
       "      <td>202.1366</td>\n",
       "    </tr>\n",
       "  </tbody>\n",
       "</table>\n",
       "</div>"
      ],
      "text/plain": [
       "                  High         Low        Open       Close   Volume  \\\n",
       "Date                                                                  \n",
       "2016-12-23  213.449997  207.710007  208.000000  213.339996  4662900   \n",
       "2016-12-27  222.250000  214.419998  214.880005  219.529999  5915700   \n",
       "2016-12-28  223.800003  217.199997  221.529999  219.740005  3782500   \n",
       "2016-12-29  219.199997  214.119995  218.559998  214.679993  4035900   \n",
       "2016-12-30  217.500000  211.679993  216.300003  213.690002  4642600   \n",
       "\n",
       "             Adj Close     100ma  \n",
       "Date                              \n",
       "2016-12-23  213.339996  202.6190  \n",
       "2016-12-27  219.529999  202.5082  \n",
       "2016-12-28  219.740005  202.4053  \n",
       "2016-12-29  214.679993  202.2905  \n",
       "2016-12-30  213.690002  202.1366  "
      ]
     },
     "execution_count": 18,
     "metadata": {},
     "output_type": "execute_result"
    }
   ],
   "source": [
    "df.tail()"
   ]
  },
  {
   "cell_type": "code",
   "execution_count": 19,
   "metadata": {},
   "outputs": [],
   "source": [
    "#df.dropna(inplace=True) \n",
    "# inplace = True means that we dont need to create new df it will all do it inplace "
   ]
  },
  {
   "cell_type": "code",
   "execution_count": 20,
   "metadata": {
    "scrolled": true
   },
   "outputs": [
    {
     "data": {
      "text/html": [
       "<div>\n",
       "<style scoped>\n",
       "    .dataframe tbody tr th:only-of-type {\n",
       "        vertical-align: middle;\n",
       "    }\n",
       "\n",
       "    .dataframe tbody tr th {\n",
       "        vertical-align: top;\n",
       "    }\n",
       "\n",
       "    .dataframe thead th {\n",
       "        text-align: right;\n",
       "    }\n",
       "</style>\n",
       "<table border=\"1\" class=\"dataframe\">\n",
       "  <thead>\n",
       "    <tr style=\"text-align: right;\">\n",
       "      <th></th>\n",
       "      <th>High</th>\n",
       "      <th>Low</th>\n",
       "      <th>Open</th>\n",
       "      <th>Close</th>\n",
       "      <th>Volume</th>\n",
       "      <th>Adj Close</th>\n",
       "      <th>100ma</th>\n",
       "    </tr>\n",
       "    <tr>\n",
       "      <th>Date</th>\n",
       "      <th></th>\n",
       "      <th></th>\n",
       "      <th></th>\n",
       "      <th></th>\n",
       "      <th></th>\n",
       "      <th></th>\n",
       "      <th></th>\n",
       "    </tr>\n",
       "  </thead>\n",
       "  <tbody>\n",
       "    <tr>\n",
       "      <th>2010-11-17</th>\n",
       "      <td>30.750000</td>\n",
       "      <td>28.610001</td>\n",
       "      <td>30.200001</td>\n",
       "      <td>29.490000</td>\n",
       "      <td>750000</td>\n",
       "      <td>29.490000</td>\n",
       "      <td>20.9879</td>\n",
       "    </tr>\n",
       "    <tr>\n",
       "      <th>2010-11-18</th>\n",
       "      <td>30.740000</td>\n",
       "      <td>28.920000</td>\n",
       "      <td>30.670000</td>\n",
       "      <td>29.889999</td>\n",
       "      <td>956100</td>\n",
       "      <td>29.889999</td>\n",
       "      <td>21.0479</td>\n",
       "    </tr>\n",
       "    <tr>\n",
       "      <th>2010-11-19</th>\n",
       "      <td>31.370001</td>\n",
       "      <td>29.700001</td>\n",
       "      <td>30.160000</td>\n",
       "      <td>30.990000</td>\n",
       "      <td>1150500</td>\n",
       "      <td>30.990000</td>\n",
       "      <td>21.1195</td>\n",
       "    </tr>\n",
       "    <tr>\n",
       "      <th>2010-11-22</th>\n",
       "      <td>33.450001</td>\n",
       "      <td>31.500000</td>\n",
       "      <td>31.570000</td>\n",
       "      <td>33.400002</td>\n",
       "      <td>1529700</td>\n",
       "      <td>33.400002</td>\n",
       "      <td>21.2339</td>\n",
       "    </tr>\n",
       "    <tr>\n",
       "      <th>2010-11-23</th>\n",
       "      <td>35.680000</td>\n",
       "      <td>32.189999</td>\n",
       "      <td>33.290001</td>\n",
       "      <td>34.570000</td>\n",
       "      <td>1577800</td>\n",
       "      <td>34.570000</td>\n",
       "      <td>21.3876</td>\n",
       "    </tr>\n",
       "  </tbody>\n",
       "</table>\n",
       "</div>"
      ],
      "text/plain": [
       "                 High        Low       Open      Close   Volume  Adj Close  \\\n",
       "Date                                                                         \n",
       "2010-11-17  30.750000  28.610001  30.200001  29.490000   750000  29.490000   \n",
       "2010-11-18  30.740000  28.920000  30.670000  29.889999   956100  29.889999   \n",
       "2010-11-19  31.370001  29.700001  30.160000  30.990000  1150500  30.990000   \n",
       "2010-11-22  33.450001  31.500000  31.570000  33.400002  1529700  33.400002   \n",
       "2010-11-23  35.680000  32.189999  33.290001  34.570000  1577800  34.570000   \n",
       "\n",
       "              100ma  \n",
       "Date                 \n",
       "2010-11-17  20.9879  \n",
       "2010-11-18  21.0479  \n",
       "2010-11-19  21.1195  \n",
       "2010-11-22  21.2339  \n",
       "2010-11-23  21.3876  "
      ]
     },
     "execution_count": 20,
     "metadata": {},
     "output_type": "execute_result"
    }
   ],
   "source": [
    "df.head() # all rows are removed "
   ]
  },
  {
   "cell_type": "code",
   "execution_count": 36,
   "metadata": {},
   "outputs": [],
   "source": [
    "# During 100 MA if we dont want NaN in first 100 rows then we can do min_periods=0 so it will not require any number of periods\n",
    "# to calculate it so on the first day it will be that day price an goes till it calculate that's an average\n",
    "df['100ma'] = df['Adj Close'].rolling(window=100, min_periods=0).mean()"
   ]
  },
  {
   "cell_type": "code",
   "execution_count": 37,
   "metadata": {},
   "outputs": [
    {
     "name": "stdout",
     "output_type": "stream",
     "text": [
      "             High        Low       Open      Close    Volume  Adj Close  \\\n",
      "Date                                                                      \n",
      "2010-06-29  25.00  17.540001  19.000000  23.889999  18766300  23.889999   \n",
      "2010-06-30  30.42  23.299999  25.790001  23.830000  17187100  23.830000   \n",
      "2010-07-01  25.92  20.270000  25.000000  21.959999   8218800  21.959999   \n",
      "2010-07-02  23.10  18.709999  23.000000  19.200001   5139800  19.200001   \n",
      "2010-07-06  20.00  15.830000  20.000000  16.110001   6866900  16.110001   \n",
      "\n",
      "                100ma  \n",
      "Date                   \n",
      "2010-06-29  23.889999  \n",
      "2010-06-30  23.860000  \n",
      "2010-07-01  23.226666  \n",
      "2010-07-02  22.220000  \n",
      "2010-07-06  20.998000  \n"
     ]
    }
   ],
   "source": [
    "print(df.head())"
   ]
  },
  {
   "cell_type": "markdown",
   "metadata": {},
   "source": [
    "# Visualization"
   ]
  },
  {
   "cell_type": "code",
   "execution_count": 47,
   "metadata": {},
   "outputs": [
    {
     "data": {
      "text/plain": [
       "<BarContainer object of 1640 artists>"
      ]
     },
     "execution_count": 47,
     "metadata": {},
     "output_type": "execute_result"
    },
    {
     "data": {
      "image/png": "[encoded data removed]",
      "text/plain": [
       "<Figure size 432x288 with 2 Axes>"
      ]
     },
     "metadata": {},
     "output_type": "display_data"
    }
   ],
   "source": [
    "# if we want multiple graphs so we need multiple subplots\n",
    "ax1 =plt.subplot2grid((6,1),(0,0), rowspan = 5, colspan = 1) # it will take the first parameter in the grid size that means 6 rows and 1 column then we are \n",
    "# saying about the starting point starting from zero zero that is top corner then we have told about rowspan (how many rows it \n",
    "# is going to span here it is 5 and column span we have defined 1 )\n",
    "ax2 =plt.subplot2grid((6,1),(5,0), rowspan = 1, colspan = 1, sharex=ax1) # sharex is used because when we zoom one above subplot\n",
    "#both have common x axis so another one will also zoom similarly\n",
    "\n",
    "# we have genrated subplots we can graph them\n",
    "ax1.plot(df.index, df['Adj Close'])  #here we are defining the x and y axis x is our index i.e. Date \n",
    "ax1.plot(df.index, df['100ma'])\n",
    "ax2.bar(df.index, df['Volume'])"
   ]
  },
  {
   "cell_type": "code",
   "execution_count": null,
   "metadata": {},
   "outputs": [],
   "source": []
  }
 ],
 "metadata": {
  "kernelspec": {
   "display_name": "Python 3",
   "language": "python",
   "name": "python3"
  },
  "language_info": {
   "codemirror_mode": {
    "name": "ipython",
    "version": 3
   },
   "file_extension": ".py",
   "mimetype": "text/x-python",
   "name": "python",
   "nbconvert_exporter": "python",
   "pygments_lexer": "ipython3",
   "version": "3.6.5"
  }
 },
 "nbformat": 4,
 "nbformat_minor": 2
}
